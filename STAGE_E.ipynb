{
  "cells": [
    {
      "cell_type": "markdown",
      "metadata": {
        "id": "view-in-github",
        "colab_type": "text"
      },
      "source": [
        "<a href=\"https://colab.research.google.com/github/Olamilekan002/Hamoye-Data-Science-Internship/blob/main/STAGE_E.ipynb\" target=\"_parent\"><img src=\"https://colab.research.google.com/assets/colab-badge.svg\" alt=\"Open In Colab\"/></a>"
      ]
    },
    {
      "cell_type": "markdown",
      "source": [
        "## Stage E Assessment"
      ],
      "metadata": {
        "id": "XnEM7T3OGCcJ"
      }
    },
    {
      "cell_type": "code",
      "execution_count": null,
      "metadata": {
        "id": "Wd1XSSEdpY8J",
        "colab": {
          "base_uri": "https://localhost:8080/"
        },
        "outputId": "d966802e-ef48-4ab9-ca7d-2e228afe29a5"
      },
      "outputs": [
        {
          "output_type": "stream",
          "name": "stderr",
          "text": [
            "/usr/local/lib/python3.7/dist-packages/statsmodels/tools/_testing.py:19: FutureWarning: pandas.util.testing is deprecated. Use the functions in the public API at pandas.testing instead.\n",
            "  import pandas.util.testing as tm\n"
          ]
        }
      ],
      "source": [
        "#import libaries\n",
        "import pandas as pd\n",
        "import numpy as np\n",
        "import matplotlib.pyplot as plt\n",
        "# from sklearn.model_selection import train_test_split\n",
        "from fbprophet import Prophet\n",
        "from sklearn.metrics import mean_absolute_error, mean_absolute_percentage_error, mean_squared_error\n",
        "from statsmodels.tsa.stattools import adfuller"
      ]
    },
    {
      "cell_type": "code",
      "execution_count": null,
      "metadata": {
        "colab": {
          "base_uri": "https://localhost:8080/",
          "height": 438
        },
        "id": "31usDjDVprEc",
        "outputId": "a4daa983-8333-4f8e-b63c-8fdb0c4620a9"
      },
      "outputs": [
        {
          "output_type": "execute_result",
          "data": {
            "text/plain": [
              "              FullDate  Tmax   SysLoad  GasPrice  ElecPrice\n",
              "0  2010-09-01 00:00:00  15.8  1688.215      3.69     23.710\n",
              "1  2010-09-01 01:00:00  15.8  1669.195      3.69     22.635\n",
              "2  2010-09-01 02:00:00  15.8  1491.980      3.69     22.565\n",
              "3  2010-09-01 03:00:00  15.8  1330.760      3.69     18.910\n",
              "4  2010-09-01 04:00:00  15.8  1247.940      3.69     18.030"
            ],
            "text/html": [
              "\n",
              "  <div id=\"df-ee8d34ae-a00d-48e4-8ac0-974606c1e6b3\">\n",
              "    <div class=\"colab-df-container\">\n",
              "      <div>\n",
              "<style scoped>\n",
              "    .dataframe tbody tr th:only-of-type {\n",
              "        vertical-align: middle;\n",
              "    }\n",
              "\n",
              "    .dataframe tbody tr th {\n",
              "        vertical-align: top;\n",
              "    }\n",
              "\n",
              "    .dataframe thead th {\n",
              "        text-align: right;\n",
              "    }\n",
              "</style>\n",
              "<table border=\"1\" class=\"dataframe\">\n",
              "  <thead>\n",
              "    <tr style=\"text-align: right;\">\n",
              "      <th></th>\n",
              "      <th>FullDate</th>\n",
              "      <th>Tmax</th>\n",
              "      <th>SysLoad</th>\n",
              "      <th>GasPrice</th>\n",
              "      <th>ElecPrice</th>\n",
              "    </tr>\n",
              "  </thead>\n",
              "  <tbody>\n",
              "    <tr>\n",
              "      <th>0</th>\n",
              "      <td>2010-09-01 00:00:00</td>\n",
              "      <td>15.8</td>\n",
              "      <td>1688.215</td>\n",
              "      <td>3.69</td>\n",
              "      <td>23.710</td>\n",
              "    </tr>\n",
              "    <tr>\n",
              "      <th>1</th>\n",
              "      <td>2010-09-01 01:00:00</td>\n",
              "      <td>15.8</td>\n",
              "      <td>1669.195</td>\n",
              "      <td>3.69</td>\n",
              "      <td>22.635</td>\n",
              "    </tr>\n",
              "    <tr>\n",
              "      <th>2</th>\n",
              "      <td>2010-09-01 02:00:00</td>\n",
              "      <td>15.8</td>\n",
              "      <td>1491.980</td>\n",
              "      <td>3.69</td>\n",
              "      <td>22.565</td>\n",
              "    </tr>\n",
              "    <tr>\n",
              "      <th>3</th>\n",
              "      <td>2010-09-01 03:00:00</td>\n",
              "      <td>15.8</td>\n",
              "      <td>1330.760</td>\n",
              "      <td>3.69</td>\n",
              "      <td>18.910</td>\n",
              "    </tr>\n",
              "    <tr>\n",
              "      <th>4</th>\n",
              "      <td>2010-09-01 04:00:00</td>\n",
              "      <td>15.8</td>\n",
              "      <td>1247.940</td>\n",
              "      <td>3.69</td>\n",
              "      <td>18.030</td>\n",
              "    </tr>\n",
              "  </tbody>\n",
              "</table>\n",
              "</div>\n",
              "      <button class=\"colab-df-convert\" onclick=\"convertToInteractive('df-ee8d34ae-a00d-48e4-8ac0-974606c1e6b3')\"\n",
              "              title=\"Convert this dataframe to an interactive table.\"\n",
              "              style=\"display:none;\">\n",
              "        \n",
              "  <svg xmlns=\"http://www.w3.org/2000/svg\" height=\"24px\"viewBox=\"0 0 24 24\"\n",
              "       width=\"24px\">\n",
              "    <path d=\"M0 0h24v24H0V0z\" fill=\"none\"/>\n",
              "    <path d=\"M18.56 5.44l.94 2.06.94-2.06 2.06-.94-2.06-.94-.94-2.06-.94 2.06-2.06.94zm-11 1L8.5 8.5l.94-2.06 2.06-.94-2.06-.94L8.5 2.5l-.94 2.06-2.06.94zm10 10l.94 2.06.94-2.06 2.06-.94-2.06-.94-.94-2.06-.94 2.06-2.06.94z\"/><path d=\"M17.41 7.96l-1.37-1.37c-.4-.4-.92-.59-1.43-.59-.52 0-1.04.2-1.43.59L10.3 9.45l-7.72 7.72c-.78.78-.78 2.05 0 2.83L4 21.41c.39.39.9.59 1.41.59.51 0 1.02-.2 1.41-.59l7.78-7.78 2.81-2.81c.8-.78.8-2.07 0-2.86zM5.41 20L4 18.59l7.72-7.72 1.47 1.35L5.41 20z\"/>\n",
              "  </svg>\n",
              "      </button>\n",
              "      \n",
              "  <style>\n",
              "    .colab-df-container {\n",
              "      display:flex;\n",
              "      flex-wrap:wrap;\n",
              "      gap: 12px;\n",
              "    }\n",
              "\n",
              "    .colab-df-convert {\n",
              "      background-color: #E8F0FE;\n",
              "      border: none;\n",
              "      border-radius: 50%;\n",
              "      cursor: pointer;\n",
              "      display: none;\n",
              "      fill: #1967D2;\n",
              "      height: 32px;\n",
              "      padding: 0 0 0 0;\n",
              "      width: 32px;\n",
              "    }\n",
              "\n",
              "    .colab-df-convert:hover {\n",
              "      background-color: #E2EBFA;\n",
              "      box-shadow: 0px 1px 2px rgba(60, 64, 67, 0.3), 0px 1px 3px 1px rgba(60, 64, 67, 0.15);\n",
              "      fill: #174EA6;\n",
              "    }\n",
              "\n",
              "    [theme=dark] .colab-df-convert {\n",
              "      background-color: #3B4455;\n",
              "      fill: #D2E3FC;\n",
              "    }\n",
              "\n",
              "    [theme=dark] .colab-df-convert:hover {\n",
              "      background-color: #434B5C;\n",
              "      box-shadow: 0px 1px 3px 1px rgba(0, 0, 0, 0.15);\n",
              "      filter: drop-shadow(0px 1px 2px rgba(0, 0, 0, 0.3));\n",
              "      fill: #FFFFFF;\n",
              "    }\n",
              "  </style>\n",
              "\n",
              "      <script>\n",
              "        const buttonEl =\n",
              "          document.querySelector('#df-ee8d34ae-a00d-48e4-8ac0-974606c1e6b3 button.colab-df-convert');\n",
              "        buttonEl.style.display =\n",
              "          google.colab.kernel.accessAllowed ? 'block' : 'none';\n",
              "\n",
              "        async function convertToInteractive(key) {\n",
              "          const element = document.querySelector('#df-ee8d34ae-a00d-48e4-8ac0-974606c1e6b3');\n",
              "          const dataTable =\n",
              "            await google.colab.kernel.invokeFunction('convertToInteractive',\n",
              "                                                     [key], {});\n",
              "          if (!dataTable) return;\n",
              "\n",
              "          const docLinkHtml = 'Like what you see? Visit the ' +\n",
              "            '<a target=\"_blank\" href=https://colab.research.google.com/notebooks/data_table.ipynb>data table notebook</a>'\n",
              "            + ' to learn more about interactive tables.';\n",
              "          element.innerHTML = '';\n",
              "          dataTable['output_type'] = 'display_data';\n",
              "          await google.colab.output.renderOutput(dataTable, element);\n",
              "          const docLink = document.createElement('div');\n",
              "          docLink.innerHTML = docLinkHtml;\n",
              "          element.appendChild(docLink);\n",
              "        }\n",
              "      </script>\n",
              "    </div>\n",
              "  </div>\n",
              "  "
            ]
          },
          "metadata": {},
          "execution_count": 2
        }
      ],
      "source": [
        "\n",
        "#load data\n",
        "path = 'https://github.com/HamoyeHQ/HDSC-Time-series-analysis-and-forecast/files/7768846/Time_series_analysis_and_forecast_DATASET.csv'\n",
        "df = pd.read_csv(path)\n",
        "df.head()"
      ]
    },
    {
      "cell_type": "code",
      "execution_count": null,
      "metadata": {
        "id": "AIQUhKsbA6_e"
      },
      "outputs": [],
      "source": [
        "df[ \"FullDate\" ] = pd.to_datetime(df[ \"FullDate\" ]) #convert column to datetime\n",
        "df.set_index( \"FullDate\" , inplace= True )"
      ]
    },
    {
      "cell_type": "code",
      "execution_count": null,
      "metadata": {
        "id": "mTiVkFlv93Kb"
      },
      "outputs": [],
      "source": [
        "\n",
        "#data resampling from hr to day\n",
        "df_day = df.resample('D').sum()"
      ]
    },
    {
      "cell_type": "code",
      "execution_count": null,
      "metadata": {
        "colab": {
          "base_uri": "https://localhost:8080/",
          "height": 384
        },
        "id": "50mai4lZBQ8c",
        "outputId": "41e63539-e8fe-4d31-922b-b2163f9447a7"
      },
      "outputs": [
        {
          "output_type": "execute_result",
          "data": {
            "text/plain": [
              "             Tmax    SysLoad  GasPrice  ElecPrice\n",
              "FullDate                                         \n",
              "2010-09-01  379.2  41565.380     88.56   2751.700\n",
              "2010-09-02  369.6  38898.990     88.56    570.810\n",
              "2010-09-03  439.2  41665.760    106.80    504.975\n",
              "2010-09-04  328.8  35638.085     81.36    502.275\n",
              "2010-09-05  357.6  35611.410    106.80    500.555"
            ],
            "text/html": [
              "\n",
              "  <div id=\"df-ebf8152e-43ea-41d4-a690-d079357b8620\">\n",
              "    <div class=\"colab-df-container\">\n",
              "      <div>\n",
              "<style scoped>\n",
              "    .dataframe tbody tr th:only-of-type {\n",
              "        vertical-align: middle;\n",
              "    }\n",
              "\n",
              "    .dataframe tbody tr th {\n",
              "        vertical-align: top;\n",
              "    }\n",
              "\n",
              "    .dataframe thead th {\n",
              "        text-align: right;\n",
              "    }\n",
              "</style>\n",
              "<table border=\"1\" class=\"dataframe\">\n",
              "  <thead>\n",
              "    <tr style=\"text-align: right;\">\n",
              "      <th></th>\n",
              "      <th>Tmax</th>\n",
              "      <th>SysLoad</th>\n",
              "      <th>GasPrice</th>\n",
              "      <th>ElecPrice</th>\n",
              "    </tr>\n",
              "    <tr>\n",
              "      <th>FullDate</th>\n",
              "      <th></th>\n",
              "      <th></th>\n",
              "      <th></th>\n",
              "      <th></th>\n",
              "    </tr>\n",
              "  </thead>\n",
              "  <tbody>\n",
              "    <tr>\n",
              "      <th>2010-09-01</th>\n",
              "      <td>379.2</td>\n",
              "      <td>41565.380</td>\n",
              "      <td>88.56</td>\n",
              "      <td>2751.700</td>\n",
              "    </tr>\n",
              "    <tr>\n",
              "      <th>2010-09-02</th>\n",
              "      <td>369.6</td>\n",
              "      <td>38898.990</td>\n",
              "      <td>88.56</td>\n",
              "      <td>570.810</td>\n",
              "    </tr>\n",
              "    <tr>\n",
              "      <th>2010-09-03</th>\n",
              "      <td>439.2</td>\n",
              "      <td>41665.760</td>\n",
              "      <td>106.80</td>\n",
              "      <td>504.975</td>\n",
              "    </tr>\n",
              "    <tr>\n",
              "      <th>2010-09-04</th>\n",
              "      <td>328.8</td>\n",
              "      <td>35638.085</td>\n",
              "      <td>81.36</td>\n",
              "      <td>502.275</td>\n",
              "    </tr>\n",
              "    <tr>\n",
              "      <th>2010-09-05</th>\n",
              "      <td>357.6</td>\n",
              "      <td>35611.410</td>\n",
              "      <td>106.80</td>\n",
              "      <td>500.555</td>\n",
              "    </tr>\n",
              "  </tbody>\n",
              "</table>\n",
              "</div>\n",
              "      <button class=\"colab-df-convert\" onclick=\"convertToInteractive('df-ebf8152e-43ea-41d4-a690-d079357b8620')\"\n",
              "              title=\"Convert this dataframe to an interactive table.\"\n",
              "              style=\"display:none;\">\n",
              "        \n",
              "  <svg xmlns=\"http://www.w3.org/2000/svg\" height=\"24px\"viewBox=\"0 0 24 24\"\n",
              "       width=\"24px\">\n",
              "    <path d=\"M0 0h24v24H0V0z\" fill=\"none\"/>\n",
              "    <path d=\"M18.56 5.44l.94 2.06.94-2.06 2.06-.94-2.06-.94-.94-2.06-.94 2.06-2.06.94zm-11 1L8.5 8.5l.94-2.06 2.06-.94-2.06-.94L8.5 2.5l-.94 2.06-2.06.94zm10 10l.94 2.06.94-2.06 2.06-.94-2.06-.94-.94-2.06-.94 2.06-2.06.94z\"/><path d=\"M17.41 7.96l-1.37-1.37c-.4-.4-.92-.59-1.43-.59-.52 0-1.04.2-1.43.59L10.3 9.45l-7.72 7.72c-.78.78-.78 2.05 0 2.83L4 21.41c.39.39.9.59 1.41.59.51 0 1.02-.2 1.41-.59l7.78-7.78 2.81-2.81c.8-.78.8-2.07 0-2.86zM5.41 20L4 18.59l7.72-7.72 1.47 1.35L5.41 20z\"/>\n",
              "  </svg>\n",
              "      </button>\n",
              "      \n",
              "  <style>\n",
              "    .colab-df-container {\n",
              "      display:flex;\n",
              "      flex-wrap:wrap;\n",
              "      gap: 12px;\n",
              "    }\n",
              "\n",
              "    .colab-df-convert {\n",
              "      background-color: #E8F0FE;\n",
              "      border: none;\n",
              "      border-radius: 50%;\n",
              "      cursor: pointer;\n",
              "      display: none;\n",
              "      fill: #1967D2;\n",
              "      height: 32px;\n",
              "      padding: 0 0 0 0;\n",
              "      width: 32px;\n",
              "    }\n",
              "\n",
              "    .colab-df-convert:hover {\n",
              "      background-color: #E2EBFA;\n",
              "      box-shadow: 0px 1px 2px rgba(60, 64, 67, 0.3), 0px 1px 3px 1px rgba(60, 64, 67, 0.15);\n",
              "      fill: #174EA6;\n",
              "    }\n",
              "\n",
              "    [theme=dark] .colab-df-convert {\n",
              "      background-color: #3B4455;\n",
              "      fill: #D2E3FC;\n",
              "    }\n",
              "\n",
              "    [theme=dark] .colab-df-convert:hover {\n",
              "      background-color: #434B5C;\n",
              "      box-shadow: 0px 1px 3px 1px rgba(0, 0, 0, 0.15);\n",
              "      filter: drop-shadow(0px 1px 2px rgba(0, 0, 0, 0.3));\n",
              "      fill: #FFFFFF;\n",
              "    }\n",
              "  </style>\n",
              "\n",
              "      <script>\n",
              "        const buttonEl =\n",
              "          document.querySelector('#df-ebf8152e-43ea-41d4-a690-d079357b8620 button.colab-df-convert');\n",
              "        buttonEl.style.display =\n",
              "          google.colab.kernel.accessAllowed ? 'block' : 'none';\n",
              "\n",
              "        async function convertToInteractive(key) {\n",
              "          const element = document.querySelector('#df-ebf8152e-43ea-41d4-a690-d079357b8620');\n",
              "          const dataTable =\n",
              "            await google.colab.kernel.invokeFunction('convertToInteractive',\n",
              "                                                     [key], {});\n",
              "          if (!dataTable) return;\n",
              "\n",
              "          const docLinkHtml = 'Like what you see? Visit the ' +\n",
              "            '<a target=\"_blank\" href=https://colab.research.google.com/notebooks/data_table.ipynb>data table notebook</a>'\n",
              "            + ' to learn more about interactive tables.';\n",
              "          element.innerHTML = '';\n",
              "          dataTable['output_type'] = 'display_data';\n",
              "          await google.colab.output.renderOutput(dataTable, element);\n",
              "          const docLink = document.createElement('div');\n",
              "          docLink.innerHTML = docLinkHtml;\n",
              "          element.appendChild(docLink);\n",
              "        }\n",
              "      </script>\n",
              "    </div>\n",
              "  </div>\n",
              "  "
            ]
          },
          "metadata": {},
          "execution_count": 5
        }
      ],
      "source": [
        "df_day.head()"
      ]
    },
    {
      "cell_type": "code",
      "execution_count": null,
      "metadata": {
        "colab": {
          "base_uri": "https://localhost:8080/",
          "height": 361
        },
        "id": "CfHKUL-wBXrX",
        "outputId": "d6c22e9b-5d5b-44f1-cad6-ac5b1f9dd1a8"
      },
      "outputs": [
        {
          "output_type": "execute_result",
          "data": {
            "text/plain": [
              "               Tmax       SysLoad     GasPrice     ElecPrice\n",
              "count  3.834000e+03   3834.000000  3834.000000   3834.000000\n",
              "mean   5.560721e+03  19142.960568   144.387902   1579.160554\n",
              "std    1.095048e+05  11776.474105    62.602608   2290.321587\n",
              "min    2.376000e+02 -14631.136000     0.000000  -2538.025000\n",
              "25%    4.152000e+02  10944.937575    94.485600    782.007500\n",
              "50%    5.256000e+02  20339.274975   123.974400   1241.140000\n",
              "75%    6.624000e+02  28158.326725   192.546000   1935.403750\n",
              "max    2.399998e+06  53541.383300   719.760000  80606.400000"
            ],
            "text/html": [
              "\n",
              "  <div id=\"df-7ca3f701-f168-49cc-83b1-cc6185098047\">\n",
              "    <div class=\"colab-df-container\">\n",
              "      <div>\n",
              "<style scoped>\n",
              "    .dataframe tbody tr th:only-of-type {\n",
              "        vertical-align: middle;\n",
              "    }\n",
              "\n",
              "    .dataframe tbody tr th {\n",
              "        vertical-align: top;\n",
              "    }\n",
              "\n",
              "    .dataframe thead th {\n",
              "        text-align: right;\n",
              "    }\n",
              "</style>\n",
              "<table border=\"1\" class=\"dataframe\">\n",
              "  <thead>\n",
              "    <tr style=\"text-align: right;\">\n",
              "      <th></th>\n",
              "      <th>Tmax</th>\n",
              "      <th>SysLoad</th>\n",
              "      <th>GasPrice</th>\n",
              "      <th>ElecPrice</th>\n",
              "    </tr>\n",
              "  </thead>\n",
              "  <tbody>\n",
              "    <tr>\n",
              "      <th>count</th>\n",
              "      <td>3.834000e+03</td>\n",
              "      <td>3834.000000</td>\n",
              "      <td>3834.000000</td>\n",
              "      <td>3834.000000</td>\n",
              "    </tr>\n",
              "    <tr>\n",
              "      <th>mean</th>\n",
              "      <td>5.560721e+03</td>\n",
              "      <td>19142.960568</td>\n",
              "      <td>144.387902</td>\n",
              "      <td>1579.160554</td>\n",
              "    </tr>\n",
              "    <tr>\n",
              "      <th>std</th>\n",
              "      <td>1.095048e+05</td>\n",
              "      <td>11776.474105</td>\n",
              "      <td>62.602608</td>\n",
              "      <td>2290.321587</td>\n",
              "    </tr>\n",
              "    <tr>\n",
              "      <th>min</th>\n",
              "      <td>2.376000e+02</td>\n",
              "      <td>-14631.136000</td>\n",
              "      <td>0.000000</td>\n",
              "      <td>-2538.025000</td>\n",
              "    </tr>\n",
              "    <tr>\n",
              "      <th>25%</th>\n",
              "      <td>4.152000e+02</td>\n",
              "      <td>10944.937575</td>\n",
              "      <td>94.485600</td>\n",
              "      <td>782.007500</td>\n",
              "    </tr>\n",
              "    <tr>\n",
              "      <th>50%</th>\n",
              "      <td>5.256000e+02</td>\n",
              "      <td>20339.274975</td>\n",
              "      <td>123.974400</td>\n",
              "      <td>1241.140000</td>\n",
              "    </tr>\n",
              "    <tr>\n",
              "      <th>75%</th>\n",
              "      <td>6.624000e+02</td>\n",
              "      <td>28158.326725</td>\n",
              "      <td>192.546000</td>\n",
              "      <td>1935.403750</td>\n",
              "    </tr>\n",
              "    <tr>\n",
              "      <th>max</th>\n",
              "      <td>2.399998e+06</td>\n",
              "      <td>53541.383300</td>\n",
              "      <td>719.760000</td>\n",
              "      <td>80606.400000</td>\n",
              "    </tr>\n",
              "  </tbody>\n",
              "</table>\n",
              "</div>\n",
              "      <button class=\"colab-df-convert\" onclick=\"convertToInteractive('df-7ca3f701-f168-49cc-83b1-cc6185098047')\"\n",
              "              title=\"Convert this dataframe to an interactive table.\"\n",
              "              style=\"display:none;\">\n",
              "        \n",
              "  <svg xmlns=\"http://www.w3.org/2000/svg\" height=\"24px\"viewBox=\"0 0 24 24\"\n",
              "       width=\"24px\">\n",
              "    <path d=\"M0 0h24v24H0V0z\" fill=\"none\"/>\n",
              "    <path d=\"M18.56 5.44l.94 2.06.94-2.06 2.06-.94-2.06-.94-.94-2.06-.94 2.06-2.06.94zm-11 1L8.5 8.5l.94-2.06 2.06-.94-2.06-.94L8.5 2.5l-.94 2.06-2.06.94zm10 10l.94 2.06.94-2.06 2.06-.94-2.06-.94-.94-2.06-.94 2.06-2.06.94z\"/><path d=\"M17.41 7.96l-1.37-1.37c-.4-.4-.92-.59-1.43-.59-.52 0-1.04.2-1.43.59L10.3 9.45l-7.72 7.72c-.78.78-.78 2.05 0 2.83L4 21.41c.39.39.9.59 1.41.59.51 0 1.02-.2 1.41-.59l7.78-7.78 2.81-2.81c.8-.78.8-2.07 0-2.86zM5.41 20L4 18.59l7.72-7.72 1.47 1.35L5.41 20z\"/>\n",
              "  </svg>\n",
              "      </button>\n",
              "      \n",
              "  <style>\n",
              "    .colab-df-container {\n",
              "      display:flex;\n",
              "      flex-wrap:wrap;\n",
              "      gap: 12px;\n",
              "    }\n",
              "\n",
              "    .colab-df-convert {\n",
              "      background-color: #E8F0FE;\n",
              "      border: none;\n",
              "      border-radius: 50%;\n",
              "      cursor: pointer;\n",
              "      display: none;\n",
              "      fill: #1967D2;\n",
              "      height: 32px;\n",
              "      padding: 0 0 0 0;\n",
              "      width: 32px;\n",
              "    }\n",
              "\n",
              "    .colab-df-convert:hover {\n",
              "      background-color: #E2EBFA;\n",
              "      box-shadow: 0px 1px 2px rgba(60, 64, 67, 0.3), 0px 1px 3px 1px rgba(60, 64, 67, 0.15);\n",
              "      fill: #174EA6;\n",
              "    }\n",
              "\n",
              "    [theme=dark] .colab-df-convert {\n",
              "      background-color: #3B4455;\n",
              "      fill: #D2E3FC;\n",
              "    }\n",
              "\n",
              "    [theme=dark] .colab-df-convert:hover {\n",
              "      background-color: #434B5C;\n",
              "      box-shadow: 0px 1px 3px 1px rgba(0, 0, 0, 0.15);\n",
              "      filter: drop-shadow(0px 1px 2px rgba(0, 0, 0, 0.3));\n",
              "      fill: #FFFFFF;\n",
              "    }\n",
              "  </style>\n",
              "\n",
              "      <script>\n",
              "        const buttonEl =\n",
              "          document.querySelector('#df-7ca3f701-f168-49cc-83b1-cc6185098047 button.colab-df-convert');\n",
              "        buttonEl.style.display =\n",
              "          google.colab.kernel.accessAllowed ? 'block' : 'none';\n",
              "\n",
              "        async function convertToInteractive(key) {\n",
              "          const element = document.querySelector('#df-7ca3f701-f168-49cc-83b1-cc6185098047');\n",
              "          const dataTable =\n",
              "            await google.colab.kernel.invokeFunction('convertToInteractive',\n",
              "                                                     [key], {});\n",
              "          if (!dataTable) return;\n",
              "\n",
              "          const docLinkHtml = 'Like what you see? Visit the ' +\n",
              "            '<a target=\"_blank\" href=https://colab.research.google.com/notebooks/data_table.ipynb>data table notebook</a>'\n",
              "            + ' to learn more about interactive tables.';\n",
              "          element.innerHTML = '';\n",
              "          dataTable['output_type'] = 'display_data';\n",
              "          await google.colab.output.renderOutput(dataTable, element);\n",
              "          const docLink = document.createElement('div');\n",
              "          docLink.innerHTML = docLinkHtml;\n",
              "          element.appendChild(docLink);\n",
              "        }\n",
              "      </script>\n",
              "    </div>\n",
              "  </div>\n",
              "  "
            ]
          },
          "metadata": {},
          "execution_count": 6
        }
      ],
      "source": [
        "df_day.describe()"
      ]
    },
    {
      "cell_type": "markdown",
      "source": [
        "### Visualisation of trend and seasonality"
      ],
      "metadata": {
        "id": "C4ijQFnlGnJR"
      }
    },
    {
      "cell_type": "code",
      "execution_count": null,
      "metadata": {
        "colab": {
          "base_uri": "https://localhost:8080/",
          "height": 193
        },
        "id": "8SV53LkNrovM",
        "outputId": "276894bb-ce9e-459f-8d1a-82cb334099db"
      },
      "outputs": [
        {
          "output_type": "display_data",
          "data": {
            "text/plain": [
              "<Figure size 1080x504 with 4 Axes>"
            ],
            "image/png": "[encoded data removed]"
          },
          "metadata": {
            "needs_background": "light"
          }
        },
        {
          "output_type": "display_data",
          "data": {
            "text/plain": [
              "<Figure size 720x216 with 0 Axes>"
            ]
          },
          "metadata": {}
        }
      ],
      "source": [
        "fig, axs = plt.subplots(2, 2, figsize = (15,7))\n",
        "axs[0, 0].plot(df.index, df.Tmax, '--' , marker= '*' , )\n",
        "axs[0, 0].set_title('Tmax')\n",
        "axs[0, 1].plot(df.index, df.SysLoad, '--' , marker= '*' , )\n",
        "axs[0, 1].set_title('SysLoad')\n",
        "axs[1, 0].plot(df.index, df.GasPrice, '--' , marker= '*' , )\n",
        "axs[1, 0].set_title('GasPrice')\n",
        "axs[1, 1].plot(df.index, df.ElecPrice, '--' , marker= '*' , )\n",
        "axs[1, 1].set_title('ElecPrice')\n",
        "\n",
        "plt.suptitle('Trends and S.. before resampling', fontsize = 20)\n",
        "plt.figure(figsize=(10,3));"
      ]
    },
    {
      "cell_type": "code",
      "execution_count": null,
      "metadata": {
        "colab": {
          "base_uri": "https://localhost:8080/",
          "height": 197
        },
        "id": "we0EqiTRryM5",
        "outputId": "a0e5cfca-0732-4f69-f43d-d693ed746346"
      },
      "outputs": [
        {
          "output_type": "display_data",
          "data": {
            "text/plain": [
              "<Figure size 1080x504 with 4 Axes>"
            ],
            "image/png": "[encoded data removed]"
          },
          "metadata": {
            "needs_background": "light"
          }
        },
        {
          "output_type": "display_data",
          "data": {
            "text/plain": [
              "<Figure size 720x216 with 0 Axes>"
            ]
          },
          "metadata": {}
        }
      ],
      "source": [
        "fig, axs = plt.subplots(2, 2, figsize = (15,7))\n",
        "axs[0, 0].plot(df_day.index, df_day.Tmax, '--' , marker= '*' , )\n",
        "axs[0, 0].set_title('Tmax')\n",
        "axs[0, 1].plot(df_day.index, df_day.SysLoad, '--' , marker= '*' , )\n",
        "axs[0, 1].set_title('SysLoad')\n",
        "axs[1, 0].plot(df_day.index, df_day.GasPrice, '--' , marker= '*' , )\n",
        "axs[1, 0].set_title('GasPrice')\n",
        "axs[1, 1].plot(df_day.index, df_day.ElecPrice, '--' , marker= '*' , )\n",
        "axs[1, 1].set_title('ElecPrice')\n",
        "\n",
        "plt.suptitle('Trends and S.. After resampling', fontsize = 20)\n",
        "plt.figure(figsize=(10,3));"
      ]
    },
    {
      "cell_type": "markdown",
      "source": [
        "### Univariate Model"
      ],
      "metadata": {
        "id": "bcYIRpMsH9Ll"
      }
    },
    {
      "cell_type": "code",
      "execution_count": null,
      "metadata": {
        "id": "IbE3m18usP_5"
      },
      "outputs": [],
      "source": [
        "df_day = df_day.reset_index()"
      ]
    },
    {
      "cell_type": "code",
      "execution_count": null,
      "metadata": {
        "colab": {
          "base_uri": "https://localhost:8080/"
        },
        "id": "AjDgkjsQsV3U",
        "outputId": "fbe19fb6-9f90-49ed-d8fe-cb2918b3663d"
      },
      "outputs": [
        {
          "output_type": "stream",
          "name": "stdout",
          "text": [
            "Train is 2757 and test is 1077\n"
          ]
        }
      ],
      "source": [
        "\n",
        "#data spliting\n",
        "# X = df_day[['FullDate', 'ElecPrice']]\n",
        "df_day.rename(columns={\"FullDate\": \"ds\", \"ElecPrice\": \"y\"}, inplace = True) \n",
        "X = df_day[['ds', 'y']]\n",
        "train = X[:2757]\n",
        "\n",
        "test = X[2757:]\n",
        "\n",
        "#validating the split\n",
        "print('Train is %s and test is %s'%(len(train), len(test)))"
      ]
    },
    {
      "cell_type": "code",
      "execution_count": null,
      "metadata": {
        "colab": {
          "base_uri": "https://localhost:8080/",
          "height": 204
        },
        "id": "VOiPFN_cOdSa",
        "outputId": "2932598d-e815-4a84-84f6-5153bb12fa7e"
      },
      "outputs": [
        {
          "output_type": "execute_result",
          "data": {
            "text/plain": [
              "          ds         y\n",
              "0 2010-09-01  2751.700\n",
              "1 2010-09-02   570.810\n",
              "2 2010-09-03   504.975\n",
              "3 2010-09-04   502.275\n",
              "4 2010-09-05   500.555"
            ],
            "text/html": [
              "\n",
              "  <div id=\"df-a70fa8e2-ec8d-4652-b011-9f229467084d\">\n",
              "    <div class=\"colab-df-container\">\n",
              "      <div>\n",
              "<style scoped>\n",
              "    .dataframe tbody tr th:only-of-type {\n",
              "        vertical-align: middle;\n",
              "    }\n",
              "\n",
              "    .dataframe tbody tr th {\n",
              "        vertical-align: top;\n",
              "    }\n",
              "\n",
              "    .dataframe thead th {\n",
              "        text-align: right;\n",
              "    }\n",
              "</style>\n",
              "<table border=\"1\" class=\"dataframe\">\n",
              "  <thead>\n",
              "    <tr style=\"text-align: right;\">\n",
              "      <th></th>\n",
              "      <th>ds</th>\n",
              "      <th>y</th>\n",
              "    </tr>\n",
              "  </thead>\n",
              "  <tbody>\n",
              "    <tr>\n",
              "      <th>0</th>\n",
              "      <td>2010-09-01</td>\n",
              "      <td>2751.700</td>\n",
              "    </tr>\n",
              "    <tr>\n",
              "      <th>1</th>\n",
              "      <td>2010-09-02</td>\n",
              "      <td>570.810</td>\n",
              "    </tr>\n",
              "    <tr>\n",
              "      <th>2</th>\n",
              "      <td>2010-09-03</td>\n",
              "      <td>504.975</td>\n",
              "    </tr>\n",
              "    <tr>\n",
              "      <th>3</th>\n",
              "      <td>2010-09-04</td>\n",
              "      <td>502.275</td>\n",
              "    </tr>\n",
              "    <tr>\n",
              "      <th>4</th>\n",
              "      <td>2010-09-05</td>\n",
              "      <td>500.555</td>\n",
              "    </tr>\n",
              "  </tbody>\n",
              "</table>\n",
              "</div>\n",
              "      <button class=\"colab-df-convert\" onclick=\"convertToInteractive('df-a70fa8e2-ec8d-4652-b011-9f229467084d')\"\n",
              "              title=\"Convert this dataframe to an interactive table.\"\n",
              "              style=\"display:none;\">\n",
              "        \n",
              "  <svg xmlns=\"http://www.w3.org/2000/svg\" height=\"24px\"viewBox=\"0 0 24 24\"\n",
              "       width=\"24px\">\n",
              "    <path d=\"M0 0h24v24H0V0z\" fill=\"none\"/>\n",
              "    <path d=\"M18.56 5.44l.94 2.06.94-2.06 2.06-.94-2.06-.94-.94-2.06-.94 2.06-2.06.94zm-11 1L8.5 8.5l.94-2.06 2.06-.94-2.06-.94L8.5 2.5l-.94 2.06-2.06.94zm10 10l.94 2.06.94-2.06 2.06-.94-2.06-.94-.94-2.06-.94 2.06-2.06.94z\"/><path d=\"M17.41 7.96l-1.37-1.37c-.4-.4-.92-.59-1.43-.59-.52 0-1.04.2-1.43.59L10.3 9.45l-7.72 7.72c-.78.78-.78 2.05 0 2.83L4 21.41c.39.39.9.59 1.41.59.51 0 1.02-.2 1.41-.59l7.78-7.78 2.81-2.81c.8-.78.8-2.07 0-2.86zM5.41 20L4 18.59l7.72-7.72 1.47 1.35L5.41 20z\"/>\n",
              "  </svg>\n",
              "      </button>\n",
              "      \n",
              "  <style>\n",
              "    .colab-df-container {\n",
              "      display:flex;\n",
              "      flex-wrap:wrap;\n",
              "      gap: 12px;\n",
              "    }\n",
              "\n",
              "    .colab-df-convert {\n",
              "      background-color: #E8F0FE;\n",
              "      border: none;\n",
              "      border-radius: 50%;\n",
              "      cursor: pointer;\n",
              "      display: none;\n",
              "      fill: #1967D2;\n",
              "      height: 32px;\n",
              "      padding: 0 0 0 0;\n",
              "      width: 32px;\n",
              "    }\n",
              "\n",
              "    .colab-df-convert:hover {\n",
              "      background-color: #E2EBFA;\n",
              "      box-shadow: 0px 1px 2px rgba(60, 64, 67, 0.3), 0px 1px 3px 1px rgba(60, 64, 67, 0.15);\n",
              "      fill: #174EA6;\n",
              "    }\n",
              "\n",
              "    [theme=dark] .colab-df-convert {\n",
              "      background-color: #3B4455;\n",
              "      fill: #D2E3FC;\n",
              "    }\n",
              "\n",
              "    [theme=dark] .colab-df-convert:hover {\n",
              "      background-color: #434B5C;\n",
              "      box-shadow: 0px 1px 3px 1px rgba(0, 0, 0, 0.15);\n",
              "      filter: drop-shadow(0px 1px 2px rgba(0, 0, 0, 0.3));\n",
              "      fill: #FFFFFF;\n",
              "    }\n",
              "  </style>\n",
              "\n",
              "      <script>\n",
              "        const buttonEl =\n",
              "          document.querySelector('#df-a70fa8e2-ec8d-4652-b011-9f229467084d button.colab-df-convert');\n",
              "        buttonEl.style.display =\n",
              "          google.colab.kernel.accessAllowed ? 'block' : 'none';\n",
              "\n",
              "        async function convertToInteractive(key) {\n",
              "          const element = document.querySelector('#df-a70fa8e2-ec8d-4652-b011-9f229467084d');\n",
              "          const dataTable =\n",
              "            await google.colab.kernel.invokeFunction('convertToInteractive',\n",
              "                                                     [key], {});\n",
              "          if (!dataTable) return;\n",
              "\n",
              "          const docLinkHtml = 'Like what you see? Visit the ' +\n",
              "            '<a target=\"_blank\" href=https://colab.research.google.com/notebooks/data_table.ipynb>data table notebook</a>'\n",
              "            + ' to learn more about interactive tables.';\n",
              "          element.innerHTML = '';\n",
              "          dataTable['output_type'] = 'display_data';\n",
              "          await google.colab.output.renderOutput(dataTable, element);\n",
              "          const docLink = document.createElement('div');\n",
              "          docLink.innerHTML = docLinkHtml;\n",
              "          element.appendChild(docLink);\n",
              "        }\n",
              "      </script>\n",
              "    </div>\n",
              "  </div>\n",
              "  "
            ]
          },
          "metadata": {},
          "execution_count": 11
        }
      ],
      "source": [
        "train.head()"
      ]
    },
    {
      "cell_type": "code",
      "execution_count": null,
      "metadata": {
        "colab": {
          "base_uri": "https://localhost:8080/"
        },
        "id": "zO5JNau3K-dx",
        "outputId": "72e47350-51c5-4283-d664-6485dfb9559c"
      },
      "outputs": [
        {
          "output_type": "stream",
          "name": "stderr",
          "text": [
            "INFO:fbprophet:Disabling daily seasonality. Run prophet with daily_seasonality=True to override this.\n"
          ]
        },
        {
          "output_type": "execute_result",
          "data": {
            "text/plain": [
              "<fbprophet.forecaster.Prophet at 0x7f8e70407e10>"
            ]
          },
          "metadata": {},
          "execution_count": 12
        }
      ],
      "source": [
        "model = Prophet()\n",
        "model.fit(train)"
      ]
    },
    {
      "cell_type": "code",
      "execution_count": null,
      "metadata": {
        "id": "fNnJ_QdEMMpZ"
      },
      "outputs": [],
      "source": [
        "# df_day_test = df_day[['ds', 'Tmax', 'SysLoad', 'GasPrice']][2757:]\n",
        "forecast = model.predict(test)"
      ]
    },
    {
      "cell_type": "code",
      "source": [
        "from math import sqrt\n",
        "y_true = test['y']\n",
        "y_pred = forecast['yhat']\n",
        "\n",
        "mse = mean_squared_error(y_true, y_pred)\n",
        "rmse = sqrt(mse)\n",
        "mape = mean_absolute_percentage_error(y_true, y_pred)\n",
        "mae = mean_absolute_error(y_true, y_pred)"
      ],
      "metadata": {
        "id": "-2ZJrtviDYsS"
      },
      "execution_count": null,
      "outputs": []
    },
    {
      "cell_type": "code",
      "source": [
        "#evaluation\n",
        "print('The mse is',mse)\n",
        "print('The rmse is', rmse)\n",
        "print('The mape is',mape *100)\n",
        "print('The mae is', mae)"
      ],
      "metadata": {
        "colab": {
          "base_uri": "https://localhost:8080/"
        },
        "id": "AXLHt9J_E_hf",
        "outputId": "b8828f4b-f3b4-4bf2-e2b5-6b8adec50fba"
      },
      "execution_count": null,
      "outputs": [
        {
          "output_type": "stream",
          "name": "stdout",
          "text": [
            "The mse is 10356526.60190019\n",
            "The rmse is 3218.15577651241\n",
            "The mape is 549.4751413716547\n",
            "The mae is 1748.5192459342127\n"
          ]
        }
      ]
    },
    {
      "cell_type": "code",
      "source": [
        "def mape_func(y_true, y_pred):\n",
        "   return sum(np.abs((y_true.values - y_pred.values)/y_true.values)) / len(y_true)*100"
      ],
      "metadata": {
        "id": "ZIYPAHgIKl7q"
      },
      "execution_count": null,
      "outputs": []
    },
    {
      "cell_type": "code",
      "execution_count": null,
      "metadata": {
        "id": "Kj9Lcgw2PAkR",
        "colab": {
          "base_uri": "https://localhost:8080/",
          "height": 204
        },
        "outputId": "32f85708-5b15-48c9-f857-8a4f0cda38a2"
      },
      "outputs": [
        {
          "output_type": "execute_result",
          "data": {
            "text/plain": [
              "          ds         yhat\n",
              "0 2018-03-20  2536.337494\n",
              "1 2018-03-21  2689.655459\n",
              "2 2018-03-22  2788.705741\n",
              "3 2018-03-23  2580.977221\n",
              "4 2018-03-24  2256.367941"
            ],
            "text/html": [
              "\n",
              "  <div id=\"df-bd454455-1d5a-4e38-a929-9326b8eeb27e\">\n",
              "    <div class=\"colab-df-container\">\n",
              "      <div>\n",
              "<style scoped>\n",
              "    .dataframe tbody tr th:only-of-type {\n",
              "        vertical-align: middle;\n",
              "    }\n",
              "\n",
              "    .dataframe tbody tr th {\n",
              "        vertical-align: top;\n",
              "    }\n",
              "\n",
              "    .dataframe thead th {\n",
              "        text-align: right;\n",
              "    }\n",
              "</style>\n",
              "<table border=\"1\" class=\"dataframe\">\n",
              "  <thead>\n",
              "    <tr style=\"text-align: right;\">\n",
              "      <th></th>\n",
              "      <th>ds</th>\n",
              "      <th>yhat</th>\n",
              "    </tr>\n",
              "  </thead>\n",
              "  <tbody>\n",
              "    <tr>\n",
              "      <th>0</th>\n",
              "      <td>2018-03-20</td>\n",
              "      <td>2536.337494</td>\n",
              "    </tr>\n",
              "    <tr>\n",
              "      <th>1</th>\n",
              "      <td>2018-03-21</td>\n",
              "      <td>2689.655459</td>\n",
              "    </tr>\n",
              "    <tr>\n",
              "      <th>2</th>\n",
              "      <td>2018-03-22</td>\n",
              "      <td>2788.705741</td>\n",
              "    </tr>\n",
              "    <tr>\n",
              "      <th>3</th>\n",
              "      <td>2018-03-23</td>\n",
              "      <td>2580.977221</td>\n",
              "    </tr>\n",
              "    <tr>\n",
              "      <th>4</th>\n",
              "      <td>2018-03-24</td>\n",
              "      <td>2256.367941</td>\n",
              "    </tr>\n",
              "  </tbody>\n",
              "</table>\n",
              "</div>\n",
              "      <button class=\"colab-df-convert\" onclick=\"convertToInteractive('df-bd454455-1d5a-4e38-a929-9326b8eeb27e')\"\n",
              "              title=\"Convert this dataframe to an interactive table.\"\n",
              "              style=\"display:none;\">\n",
              "        \n",
              "  <svg xmlns=\"http://www.w3.org/2000/svg\" height=\"24px\"viewBox=\"0 0 24 24\"\n",
              "       width=\"24px\">\n",
              "    <path d=\"M0 0h24v24H0V0z\" fill=\"none\"/>\n",
              "    <path d=\"M18.56 5.44l.94 2.06.94-2.06 2.06-.94-2.06-.94-.94-2.06-.94 2.06-2.06.94zm-11 1L8.5 8.5l.94-2.06 2.06-.94-2.06-.94L8.5 2.5l-.94 2.06-2.06.94zm10 10l.94 2.06.94-2.06 2.06-.94-2.06-.94-.94-2.06-.94 2.06-2.06.94z\"/><path d=\"M17.41 7.96l-1.37-1.37c-.4-.4-.92-.59-1.43-.59-.52 0-1.04.2-1.43.59L10.3 9.45l-7.72 7.72c-.78.78-.78 2.05 0 2.83L4 21.41c.39.39.9.59 1.41.59.51 0 1.02-.2 1.41-.59l7.78-7.78 2.81-2.81c.8-.78.8-2.07 0-2.86zM5.41 20L4 18.59l7.72-7.72 1.47 1.35L5.41 20z\"/>\n",
              "  </svg>\n",
              "      </button>\n",
              "      \n",
              "  <style>\n",
              "    .colab-df-container {\n",
              "      display:flex;\n",
              "      flex-wrap:wrap;\n",
              "      gap: 12px;\n",
              "    }\n",
              "\n",
              "    .colab-df-convert {\n",
              "      background-color: #E8F0FE;\n",
              "      border: none;\n",
              "      border-radius: 50%;\n",
              "      cursor: pointer;\n",
              "      display: none;\n",
              "      fill: #1967D2;\n",
              "      height: 32px;\n",
              "      padding: 0 0 0 0;\n",
              "      width: 32px;\n",
              "    }\n",
              "\n",
              "    .colab-df-convert:hover {\n",
              "      background-color: #E2EBFA;\n",
              "      box-shadow: 0px 1px 2px rgba(60, 64, 67, 0.3), 0px 1px 3px 1px rgba(60, 64, 67, 0.15);\n",
              "      fill: #174EA6;\n",
              "    }\n",
              "\n",
              "    [theme=dark] .colab-df-convert {\n",
              "      background-color: #3B4455;\n",
              "      fill: #D2E3FC;\n",
              "    }\n",
              "\n",
              "    [theme=dark] .colab-df-convert:hover {\n",
              "      background-color: #434B5C;\n",
              "      box-shadow: 0px 1px 3px 1px rgba(0, 0, 0, 0.15);\n",
              "      filter: drop-shadow(0px 1px 2px rgba(0, 0, 0, 0.3));\n",
              "      fill: #FFFFFF;\n",
              "    }\n",
              "  </style>\n",
              "\n",
              "      <script>\n",
              "        const buttonEl =\n",
              "          document.querySelector('#df-bd454455-1d5a-4e38-a929-9326b8eeb27e button.colab-df-convert');\n",
              "        buttonEl.style.display =\n",
              "          google.colab.kernel.accessAllowed ? 'block' : 'none';\n",
              "\n",
              "        async function convertToInteractive(key) {\n",
              "          const element = document.querySelector('#df-bd454455-1d5a-4e38-a929-9326b8eeb27e');\n",
              "          const dataTable =\n",
              "            await google.colab.kernel.invokeFunction('convertToInteractive',\n",
              "                                                     [key], {});\n",
              "          if (!dataTable) return;\n",
              "\n",
              "          const docLinkHtml = 'Like what you see? Visit the ' +\n",
              "            '<a target=\"_blank\" href=https://colab.research.google.com/notebooks/data_table.ipynb>data table notebook</a>'\n",
              "            + ' to learn more about interactive tables.';\n",
              "          element.innerHTML = '';\n",
              "          dataTable['output_type'] = 'display_data';\n",
              "          await google.colab.output.renderOutput(dataTable, element);\n",
              "          const docLink = document.createElement('div');\n",
              "          docLink.innerHTML = docLinkHtml;\n",
              "          element.appendChild(docLink);\n",
              "        }\n",
              "      </script>\n",
              "    </div>\n",
              "  </div>\n",
              "  "
            ]
          },
          "metadata": {},
          "execution_count": 17
        }
      ],
      "source": [
        "forecast[['ds', 'yhat']].head()"
      ]
    },
    {
      "cell_type": "markdown",
      "metadata": {
        "id": "gK14b1BDReWr"
      },
      "source": [
        "### Multivariate Model"
      ]
    },
    {
      "cell_type": "code",
      "execution_count": null,
      "metadata": {
        "colab": {
          "base_uri": "https://localhost:8080/"
        },
        "id": "EMtZGeOPPfHm",
        "outputId": "76a26fdb-ed0c-4d96-93b7-6cb6797efa7e"
      },
      "outputs": [
        {
          "output_type": "stream",
          "name": "stderr",
          "text": [
            "INFO:fbprophet:Disabling daily seasonality. Run prophet with daily_seasonality=True to override this.\n"
          ]
        },
        {
          "output_type": "execute_result",
          "data": {
            "text/plain": [
              "<fbprophet.forecaster.Prophet at 0x7f8e6d346e50>"
            ]
          },
          "metadata": {},
          "execution_count": 18
        }
      ],
      "source": [
        "model_mul = Prophet()\n",
        "model_mul.add_regressor('Tmax')\n",
        "model_mul.add_regressor('SysLoad')\n",
        "model_mul.add_regressor('GasPrice')\n",
        "model_mul.fit(df_day[:2757])"
      ]
    },
    {
      "cell_type": "code",
      "execution_count": null,
      "metadata": {
        "id": "__TNrHZmRzSW"
      },
      "outputs": [],
      "source": [
        "df_day_test = df_day[['ds', 'Tmax', 'SysLoad', 'GasPrice']][2757:]\n",
        "forecast1 = model_mul.predict(df_day_test)"
      ]
    },
    {
      "cell_type": "code",
      "execution_count": null,
      "metadata": {
        "colab": {
          "base_uri": "https://localhost:8080/",
          "height": 463
        },
        "id": "lQKXaT5OTBb-",
        "outputId": "7cc54ef3-e298-4fb8-a59a-6e623369845d"
      },
      "outputs": [
        {
          "output_type": "execute_result",
          "data": {
            "text/plain": [
              "             ds         yhat\n",
              "0    2018-03-20  1985.928781\n",
              "1    2018-03-21  1977.305515\n",
              "2    2018-03-22  2897.552092\n",
              "3    2018-03-23  2581.732539\n",
              "4    2018-03-24  1434.764330\n",
              "...         ...          ...\n",
              "1072 2021-02-24   953.896217\n",
              "1073 2021-02-25  1313.507388\n",
              "1074 2021-02-26  1377.373852\n",
              "1075 2021-02-27  1032.301956\n",
              "1076 2021-02-28  1192.779471\n",
              "\n",
              "[1077 rows x 2 columns]"
            ],
            "text/html": [
              "\n",
              "  <div id=\"df-79484275-c365-4204-9cde-3ea8ef2cce88\">\n",
              "    <div class=\"colab-df-container\">\n",
              "      <div>\n",
              "<style scoped>\n",
              "    .dataframe tbody tr th:only-of-type {\n",
              "        vertical-align: middle;\n",
              "    }\n",
              "\n",
              "    .dataframe tbody tr th {\n",
              "        vertical-align: top;\n",
              "    }\n",
              "\n",
              "    .dataframe thead th {\n",
              "        text-align: right;\n",
              "    }\n",
              "</style>\n",
              "<table border=\"1\" class=\"dataframe\">\n",
              "  <thead>\n",
              "    <tr style=\"text-align: right;\">\n",
              "      <th></th>\n",
              "      <th>ds</th>\n",
              "      <th>yhat</th>\n",
              "    </tr>\n",
              "  </thead>\n",
              "  <tbody>\n",
              "    <tr>\n",
              "      <th>0</th>\n",
              "      <td>2018-03-20</td>\n",
              "      <td>1985.928781</td>\n",
              "    </tr>\n",
              "    <tr>\n",
              "      <th>1</th>\n",
              "      <td>2018-03-21</td>\n",
              "      <td>1977.305515</td>\n",
              "    </tr>\n",
              "    <tr>\n",
              "      <th>2</th>\n",
              "      <td>2018-03-22</td>\n",
              "      <td>2897.552092</td>\n",
              "    </tr>\n",
              "    <tr>\n",
              "      <th>3</th>\n",
              "      <td>2018-03-23</td>\n",
              "      <td>2581.732539</td>\n",
              "    </tr>\n",
              "    <tr>\n",
              "      <th>4</th>\n",
              "      <td>2018-03-24</td>\n",
              "      <td>1434.764330</td>\n",
              "    </tr>\n",
              "    <tr>\n",
              "      <th>...</th>\n",
              "      <td>...</td>\n",
              "      <td>...</td>\n",
              "    </tr>\n",
              "    <tr>\n",
              "      <th>1072</th>\n",
              "      <td>2021-02-24</td>\n",
              "      <td>953.896217</td>\n",
              "    </tr>\n",
              "    <tr>\n",
              "      <th>1073</th>\n",
              "      <td>2021-02-25</td>\n",
              "      <td>1313.507388</td>\n",
              "    </tr>\n",
              "    <tr>\n",
              "      <th>1074</th>\n",
              "      <td>2021-02-26</td>\n",
              "      <td>1377.373852</td>\n",
              "    </tr>\n",
              "    <tr>\n",
              "      <th>1075</th>\n",
              "      <td>2021-02-27</td>\n",
              "      <td>1032.301956</td>\n",
              "    </tr>\n",
              "    <tr>\n",
              "      <th>1076</th>\n",
              "      <td>2021-02-28</td>\n",
              "      <td>1192.779471</td>\n",
              "    </tr>\n",
              "  </tbody>\n",
              "</table>\n",
              "<p>1077 rows × 2 columns</p>\n",
              "</div>\n",
              "      <button class=\"colab-df-convert\" onclick=\"convertToInteractive('df-79484275-c365-4204-9cde-3ea8ef2cce88')\"\n",
              "              title=\"Convert this dataframe to an interactive table.\"\n",
              "              style=\"display:none;\">\n",
              "        \n",
              "  <svg xmlns=\"http://www.w3.org/2000/svg\" height=\"24px\"viewBox=\"0 0 24 24\"\n",
              "       width=\"24px\">\n",
              "    <path d=\"M0 0h24v24H0V0z\" fill=\"none\"/>\n",
              "    <path d=\"M18.56 5.44l.94 2.06.94-2.06 2.06-.94-2.06-.94-.94-2.06-.94 2.06-2.06.94zm-11 1L8.5 8.5l.94-2.06 2.06-.94-2.06-.94L8.5 2.5l-.94 2.06-2.06.94zm10 10l.94 2.06.94-2.06 2.06-.94-2.06-.94-.94-2.06-.94 2.06-2.06.94z\"/><path d=\"M17.41 7.96l-1.37-1.37c-.4-.4-.92-.59-1.43-.59-.52 0-1.04.2-1.43.59L10.3 9.45l-7.72 7.72c-.78.78-.78 2.05 0 2.83L4 21.41c.39.39.9.59 1.41.59.51 0 1.02-.2 1.41-.59l7.78-7.78 2.81-2.81c.8-.78.8-2.07 0-2.86zM5.41 20L4 18.59l7.72-7.72 1.47 1.35L5.41 20z\"/>\n",
              "  </svg>\n",
              "      </button>\n",
              "      \n",
              "  <style>\n",
              "    .colab-df-container {\n",
              "      display:flex;\n",
              "      flex-wrap:wrap;\n",
              "      gap: 12px;\n",
              "    }\n",
              "\n",
              "    .colab-df-convert {\n",
              "      background-color: #E8F0FE;\n",
              "      border: none;\n",
              "      border-radius: 50%;\n",
              "      cursor: pointer;\n",
              "      display: none;\n",
              "      fill: #1967D2;\n",
              "      height: 32px;\n",
              "      padding: 0 0 0 0;\n",
              "      width: 32px;\n",
              "    }\n",
              "\n",
              "    .colab-df-convert:hover {\n",
              "      background-color: #E2EBFA;\n",
              "      box-shadow: 0px 1px 2px rgba(60, 64, 67, 0.3), 0px 1px 3px 1px rgba(60, 64, 67, 0.15);\n",
              "      fill: #174EA6;\n",
              "    }\n",
              "\n",
              "    [theme=dark] .colab-df-convert {\n",
              "      background-color: #3B4455;\n",
              "      fill: #D2E3FC;\n",
              "    }\n",
              "\n",
              "    [theme=dark] .colab-df-convert:hover {\n",
              "      background-color: #434B5C;\n",
              "      box-shadow: 0px 1px 3px 1px rgba(0, 0, 0, 0.15);\n",
              "      filter: drop-shadow(0px 1px 2px rgba(0, 0, 0, 0.3));\n",
              "      fill: #FFFFFF;\n",
              "    }\n",
              "  </style>\n",
              "\n",
              "      <script>\n",
              "        const buttonEl =\n",
              "          document.querySelector('#df-79484275-c365-4204-9cde-3ea8ef2cce88 button.colab-df-convert');\n",
              "        buttonEl.style.display =\n",
              "          google.colab.kernel.accessAllowed ? 'block' : 'none';\n",
              "\n",
              "        async function convertToInteractive(key) {\n",
              "          const element = document.querySelector('#df-79484275-c365-4204-9cde-3ea8ef2cce88');\n",
              "          const dataTable =\n",
              "            await google.colab.kernel.invokeFunction('convertToInteractive',\n",
              "                                                     [key], {});\n",
              "          if (!dataTable) return;\n",
              "\n",
              "          const docLinkHtml = 'Like what you see? Visit the ' +\n",
              "            '<a target=\"_blank\" href=https://colab.research.google.com/notebooks/data_table.ipynb>data table notebook</a>'\n",
              "            + ' to learn more about interactive tables.';\n",
              "          element.innerHTML = '';\n",
              "          dataTable['output_type'] = 'display_data';\n",
              "          await google.colab.output.renderOutput(dataTable, element);\n",
              "          const docLink = document.createElement('div');\n",
              "          docLink.innerHTML = docLinkHtml;\n",
              "          element.appendChild(docLink);\n",
              "        }\n",
              "      </script>\n",
              "    </div>\n",
              "  </div>\n",
              "  "
            ]
          },
          "metadata": {},
          "execution_count": 20
        }
      ],
      "source": [
        "forecast1[['ds', 'yhat']]"
      ]
    },
    {
      "cell_type": "code",
      "execution_count": null,
      "metadata": {
        "id": "nQKDJjAGS1MH"
      },
      "outputs": [],
      "source": [
        "from math import sqrt\n",
        "y_true_mul = df_day['y'][2757:]\n",
        "y_pred_mul = forecast1['yhat']\n",
        "\n",
        "mse_mul = mean_squared_error(y_true_mul, y_pred_mul)\n",
        "rmse_mul = sqrt(mse_mul)\n",
        "mape_mul = mean_absolute_percentage_error(y_true_mul, y_pred_mul)\n",
        "mae_mul = mean_absolute_error(y_true_mul, y_pred_mul)"
      ]
    },
    {
      "cell_type": "code",
      "execution_count": null,
      "metadata": {
        "id": "Pr2yzZy5S8KK",
        "colab": {
          "base_uri": "https://localhost:8080/"
        },
        "outputId": "790f3e7c-e2f7-4df3-eb6b-160689cc10b0"
      },
      "outputs": [
        {
          "output_type": "stream",
          "name": "stdout",
          "text": [
            "The mse is 7328041.505055476\n",
            "The rmse score is 2707.0355566662724\n",
            "The mape score is 231.38342496094398\n",
            "The MAE score is 984.216456600714\n"
          ]
        }
      ],
      "source": [
        "print('The mse is',mse_mul)\n",
        "print('The rmse score is', rmse_mul)\n",
        "print('The mape score is', mape_mul*100)\n",
        "print('The MAE score is', mae_mul)"
      ]
    },
    {
      "cell_type": "code",
      "source": [
        "mape_func(y_true_mul, y_pred_mul)"
      ],
      "metadata": {
        "colab": {
          "base_uri": "https://localhost:8080/"
        },
        "id": "JSa0xmFFG4tL",
        "outputId": "857e15c6-7c78-43a9-dea1-946822b85f14"
      },
      "execution_count": null,
      "outputs": [
        {
          "output_type": "execute_result",
          "data": {
            "text/plain": [
              "231.383424960944"
            ]
          },
          "metadata": {},
          "execution_count": 23
        }
      ]
    },
    {
      "cell_type": "code",
      "source": [
        ""
      ],
      "metadata": {
        "id": "nmdnG-PSG97K"
      },
      "execution_count": null,
      "outputs": []
    },
    {
      "cell_type": "markdown",
      "source": [
        "### Other Multivariate model"
      ],
      "metadata": {
        "id": "Ey2ZYHwFL4Tz"
      }
    },
    {
      "cell_type": "code",
      "source": [
        "model_mul1 = Prophet()\n",
        "model_mul1.add_regressor('SysLoad')\n",
        "model_mul1.add_regressor('GasPrice')\n",
        "model_mul1.fit(df_day[:2757])"
      ],
      "metadata": {
        "colab": {
          "base_uri": "https://localhost:8080/"
        },
        "id": "v_gE7W2UMDGm",
        "outputId": "2e158b27-8af8-4191-e239-a209a18e2f4c"
      },
      "execution_count": null,
      "outputs": [
        {
          "output_type": "stream",
          "name": "stderr",
          "text": [
            "INFO:fbprophet:Disabling daily seasonality. Run prophet with daily_seasonality=True to override this.\n"
          ]
        },
        {
          "output_type": "execute_result",
          "data": {
            "text/plain": [
              "<fbprophet.forecaster.Prophet at 0x7f8e69f34110>"
            ]
          },
          "metadata": {},
          "execution_count": 24
        }
      ]
    },
    {
      "cell_type": "code",
      "source": [
        "df_day_test1 = df_day[['ds', 'SysLoad', 'GasPrice']][2757:]\n",
        "forecast2 = model_mul1.predict(df_day_test1)"
      ],
      "metadata": {
        "id": "daSVBUTAMLGF"
      },
      "execution_count": null,
      "outputs": []
    },
    {
      "cell_type": "code",
      "source": [
        "from math import sqrt\n",
        "y_true_mul = df_day['y'][2757:]\n",
        "y_pred_mul2 = forecast2['yhat']\n",
        "\n",
        "mse_mul1 = mean_squared_error(y_true_mul, y_pred_mul2)\n",
        "rmse_mul1 = sqrt(mse_mul1)\n",
        "mape_mul1 = mean_absolute_percentage_error(y_true_mul, y_pred_mul2)\n",
        "mae_mul1 = mean_absolute_error(y_true_mul, y_pred_mul2)"
      ],
      "metadata": {
        "id": "V84uFpmBMWJr"
      },
      "execution_count": null,
      "outputs": []
    },
    {
      "cell_type": "code",
      "source": [
        "print('The mse is',mse_mul1)\n",
        "print('The rmse score is', rmse_mul1)\n",
        "print('The mape score is', mape_mul1*100)\n",
        "print('The MAE score is', mae_mul1)"
      ],
      "metadata": {
        "colab": {
          "base_uri": "https://localhost:8080/"
        },
        "id": "CKqWwBd-Mjfe",
        "outputId": "873cc620-53f1-4b02-949d-b0d5d15a005c"
      },
      "execution_count": null,
      "outputs": [
        {
          "output_type": "stream",
          "name": "stdout",
          "text": [
            "The mse is 7360010.968370907\n",
            "The rmse score is 2712.934014746932\n",
            "The mape score is 236.66321133599126\n",
            "The MAE score is 1003.6214646918181\n"
          ]
        }
      ]
    },
    {
      "cell_type": "code",
      "source": [
        ""
      ],
      "metadata": {
        "id": "KDy3WMjIMoTm"
      },
      "execution_count": null,
      "outputs": []
    },
    {
      "cell_type": "markdown",
      "source": [
        "### ADF Statistics of Features"
      ],
      "metadata": {
        "id": "7g_kYiDAMQ1M"
      }
    },
    {
      "cell_type": "code",
      "source": [
        "#Adf Statistics of GasPrice\n",
        "adf_result = adfuller(df_day['GasPrice']);\n",
        "print(f'ADF Statistic: {adf_result[0]}')\n",
        "print(f'p-value: {adf_result[1]}')\n",
        "print(f'No. of lags used: {adf_result[2]}')\n",
        "print(f'No. of observations used : {adf_result[3]}')\n",
        "print('Critical Values:')\n",
        "for k, v in adf_result[4].items():\n",
        "    print(f'   {k}: {v}')"
      ],
      "metadata": {
        "colab": {
          "base_uri": "https://localhost:8080/"
        },
        "id": "Nkm37tatNzY-",
        "outputId": "664e67c2-5e44-4d42-91a0-b1aa6587556c"
      },
      "execution_count": null,
      "outputs": [
        {
          "output_type": "stream",
          "name": "stdout",
          "text": [
            "ADF Statistic: -2.90276669716518\n",
            "p-value: 0.04502721288462542\n",
            "No. of lags used: 27\n",
            "No. of observations used : 3806\n",
            "Critical Values:\n",
            "   1%: -3.4320693157877544\n",
            "   5%: -2.8622996992165364\n",
            "   10%: -2.5671743978048323\n"
          ]
        }
      ]
    },
    {
      "cell_type": "code",
      "source": [
        "#Adf Statistics of ElecPrice\n",
        "adf_result = adfuller(df_day['y'])\n",
        "print(f'ADF Statistic: {adf_result[0]}')\n",
        "print(f'p-value: {adf_result[1]}')\n",
        "print(f'No. of lags used: {adf_result[2]}')\n",
        "print(f'No. of observations used : {adf_result[3]}')\n",
        "print('Critical Values:')\n",
        "for k, v in adf_result[4].items():\n",
        "    print(f'   {k}: {v}')"
      ],
      "metadata": {
        "colab": {
          "base_uri": "https://localhost:8080/"
        },
        "id": "37_QejKrN71c",
        "outputId": "aff36697-cbbb-416e-fc79-4958664b004c"
      },
      "execution_count": null,
      "outputs": [
        {
          "output_type": "stream",
          "name": "stdout",
          "text": [
            "ADF Statistic: -8.269053866873803\n",
            "p-value: 4.848817773711633e-13\n",
            "No. of lags used: 20\n",
            "No. of observations used : 3813\n",
            "Critical Values:\n",
            "   1%: -3.432066157296446\n",
            "   5%: -2.8622983040036005\n",
            "   10%: -2.5671736550459663\n"
          ]
        }
      ]
    },
    {
      "cell_type": "code",
      "source": [
        "#Adf Statistics of SysLoad\n",
        "adf_result = adfuller(df_day['SysLoad'])\n",
        "print(f'ADF Statistic: {adf_result[0]}')\n",
        "print(f'p-value: {adf_result[1]}')\n",
        "print(f'No. of lags used: {adf_result[2]}')\n",
        "print(f'No. of observations used : {adf_result[3]}')\n",
        "print('Critical Values:')\n",
        "for k, v in adf_result[4].items():\n",
        "    print(f'   {k}: {v}')"
      ],
      "metadata": {
        "colab": {
          "base_uri": "https://localhost:8080/"
        },
        "id": "kKsHN4FzOlOc",
        "outputId": "8b39df46-26f7-4f83-b811-ed99f1ad5f64"
      },
      "execution_count": null,
      "outputs": [
        {
          "output_type": "stream",
          "name": "stdout",
          "text": [
            "ADF Statistic: -3.6901589888366457\n",
            "p-value: 0.004253725504574117\n",
            "No. of lags used: 30\n",
            "No. of observations used : 3803\n",
            "Critical Values:\n",
            "   1%: -3.432070672988693\n",
            "   5%: -2.8623002987378547\n",
            "   10%: -2.567174716967499\n"
          ]
        }
      ]
    },
    {
      "cell_type": "code",
      "source": [
        "#ADF Statistics of Tmax\n",
        "adf_result = adfuller(df_day['Tmax'])\n",
        "print(f'ADF Statistic: {adf_result[0]}')\n",
        "print(f'p-value: {adf_result[1]}')\n",
        "print(f'No. of lags used: {adf_result[2]}')\n",
        "print(f'No. of observations used : {adf_result[3]}')\n",
        "print('Critical Values:')\n",
        "for k, v in adf_result[4].items():\n",
        "    print(f'   {k}: {v}')"
      ],
      "metadata": {
        "colab": {
          "base_uri": "https://localhost:8080/"
        },
        "id": "GZm4j8aOO-e4",
        "outputId": "a49f1407-ac35-4d7b-87f2-19e897dc0eb2"
      },
      "execution_count": null,
      "outputs": [
        {
          "output_type": "stream",
          "name": "stdout",
          "text": [
            "ADF Statistic: -20.766001357159357\n",
            "p-value: 0.0\n",
            "No. of lags used: 6\n",
            "No. of observations used : 3827\n",
            "Critical Values:\n",
            "   1%: -3.4320598750004825\n",
            "   5%: -2.862295528895607\n",
            "   10%: -2.567172177683642\n"
          ]
        }
      ]
    },
    {
      "cell_type": "code",
      "source": [
        ""
      ],
      "metadata": {
        "id": "2rgdpEEzPKl7"
      },
      "execution_count": null,
      "outputs": []
    }
  ],
  "metadata": {
    "colab": {
      "collapsed_sections": [],
      "name": "STAGE E.ipynb",
      "provenance": [],
      "authorship_tag": "ABX9TyMdZYhqS+Mito+pesFQGEbI",
      "include_colab_link": true
    },
    "kernelspec": {
      "display_name": "Python 3",
      "name": "python3"
    },
    "language_info": {
      "name": "python"
    }
  },
  "nbformat": 4,
  "nbformat_minor": 0
}